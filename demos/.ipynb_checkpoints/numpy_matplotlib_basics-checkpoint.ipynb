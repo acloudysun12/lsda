{
 "cells": [
  {
   "cell_type": "markdown",
   "metadata": {},
   "source": [
    "# The Basics: Numpy and Matplotlib\n",
    "\n",
    "Python is amazing! It provides a data science platform that is flexible, powerful, and easy to use. In this demo, we're going to do some simple data processing with `numpy` and `matplotlib`, two of the most essential packages for data science in Python.\n",
    "\n",
    "## Installation\n",
    "\n",
    "It is recommended that you use Python 3. Downloadable binaries are available \n",
    "[here](https://www.python.org/downloads/), but if you are on a Mac, you should install \n",
    "[Homebrew](https://brew.sh/) and run:\n",
    "```\n",
    "brew install -U python\n",
    "```\n",
    "to install Python 3.\n",
    "\n",
    "Once you have done so, the packages needed for this class can be installed using `pip`. Run\n",
    "```\n",
    "python -m pip install -U jupyter numpy scipy matplotlib scikit-learn\n",
    "```\n",
    "to install the packages you will need for homework 1, including jupyter notebook. You can then launch a jupyter notebook with\n",
    "```\n",
    "jupyter notebook\n",
    "```"
   ]
  },
  {
   "cell_type": "markdown",
   "metadata": {},
   "source": [
    "## Imports\n",
    "\n",
    "All your import statements should be at the beginning of the file in one cell. Preferrably, you should use the common abbreviations for each."
   ]
  },
  {
   "cell_type": "code",
   "execution_count": 3,
   "metadata": {},
   "outputs": [],
   "source": [
    "import numpy as np\n",
    "import matplotlib.pyplot as plt\n",
    "from sklearn.cluster import KMeans\n",
    "%matplotlib inline"
   ]
  },
  {
   "cell_type": "markdown",
   "metadata": {},
   "source": [
    "## Demo\n",
    "\n",
    "Let's make some data. In this example, we will draw 100 points on the plane from two normal distributions, each with standard deviation of 1."
   ]
  },
  {
   "cell_type": "code",
   "execution_count": 109,
   "metadata": {},
   "outputs": [
    {
     "name": "stdout",
     "output_type": "stream",
     "text": [
      "X1: [[-1.20914725 -1.44918445]\n",
      " [-2.50403615 -1.46875948]\n",
      " [-1.21784398 -0.11180278]\n",
      " [-1.18474844 -0.0316094 ]\n",
      " [-3.19968701 -0.47406821]\n",
      " [-2.12040708  2.00612881]\n",
      " [-2.9396135   0.4773959 ]\n",
      " [-3.66123475 -0.15775439]\n",
      " [-2.57162558 -0.4782175 ]\n",
      " [-0.64179304 -0.91190075]\n",
      " [-1.13401569 -0.17348499]\n",
      " [-2.80970466  0.70965436]\n",
      " [-0.91867034  0.4215435 ]\n",
      " [-3.38800141 -0.51984896]\n",
      " [-2.36810976 -1.5298181 ]\n",
      " [-2.53740036 -0.2582465 ]\n",
      " [-2.18341092 -0.62474464]\n",
      " [-3.23641505  1.13639193]\n",
      " [-1.32909308 -0.35721817]\n",
      " [-3.62662874 -2.01657219]\n",
      " [-1.3884243   2.41126215]\n",
      " [-1.66992568  1.56564066]\n",
      " [-2.38521655  2.34620472]\n",
      " [-2.80378492 -1.1941953 ]\n",
      " [-1.75406277  1.47978521]\n",
      " [-1.63246652  0.01240482]\n",
      " [-2.62760341 -1.35495858]\n",
      " [-2.94901822 -1.007332  ]\n",
      " [-3.3767943  -1.22784278]\n",
      " [-0.93172242  1.76578487]\n",
      " [-0.45184769 -0.89189653]\n",
      " [-1.6675189  -0.91092305]\n",
      " [-1.41180461 -0.31554719]\n",
      " [-2.63029939  0.58359968]\n",
      " [-2.48792891  0.0099636 ]\n",
      " [-3.0946649   1.60008368]\n",
      " [-0.94990882 -0.41872656]\n",
      " [-0.18484318 -1.94695954]\n",
      " [-2.7641128   0.52144649]\n",
      " [-1.86863297 -0.18788445]\n",
      " [-2.80242092 -0.98305709]\n",
      " [-2.62138273 -1.57951988]\n",
      " [-3.75623443 -0.19217487]\n",
      " [-3.80093217 -0.01420122]\n",
      " [-2.72488529  0.01077089]\n",
      " [-1.30382508 -0.6988977 ]\n",
      " [-3.15068599  0.76655351]\n",
      " [-1.26139795  1.05159124]\n",
      " [-1.2640435   1.71104499]\n",
      " [-2.50410332 -2.11091777]\n",
      " [-2.07401307  0.45119262]\n",
      " [-2.08776756  0.15901636]\n",
      " [-2.0939017  -0.01449153]\n",
      " [-3.2979311   1.69175035]\n",
      " [-2.01004997  0.41548733]\n",
      " [-0.87409508 -0.28112788]\n",
      " [-1.22972814  1.28980842]\n",
      " [-2.69095473 -0.62233645]\n",
      " [-1.36871292  0.05571502]\n",
      " [-0.20557106  0.34179187]\n",
      " [-0.26503363  1.31602256]\n",
      " [-2.19992578 -0.25914764]\n",
      " [-3.11751178 -0.11068708]\n",
      " [-2.40640269  0.75703696]\n",
      " [-0.71022608 -0.21238859]\n",
      " [-1.26834924 -2.8802977 ]\n",
      " [-2.16987204  1.75588224]\n",
      " [-1.79324498  1.42735335]\n",
      " [-2.19814668  0.24315521]\n",
      " [-2.19925398  0.12223662]\n",
      " [-1.18264284  0.10968376]\n",
      " [-2.94989894  1.57025138]\n",
      " [-2.6080894   0.24467111]\n",
      " [-2.52011009  1.00837668]\n",
      " [-1.71822952  0.97578391]\n",
      " [-1.43307802 -0.17339338]\n",
      " [-0.98812684 -1.55806048]\n",
      " [-2.83054185  1.06048898]\n",
      " [-1.84373773 -1.80238164]\n",
      " [-2.48976878 -0.35584077]\n",
      " [-2.63598444  0.15528199]\n",
      " [-2.0418262  -0.02082597]\n",
      " [-1.4382366  -0.86388317]\n",
      " [-2.53357048 -0.55786484]\n",
      " [-1.15858648  0.64906885]\n",
      " [-2.40538681  0.93033956]\n",
      " [-1.89792154  0.72429509]\n",
      " [-0.02597919 -0.76477996]\n",
      " [ 0.18094989 -1.76413286]\n",
      " [-1.86971224 -0.91999685]\n",
      " [-1.29928345  1.94287014]\n",
      " [-2.26876205  1.37064455]\n",
      " [-1.67300744  0.47141749]\n",
      " [-1.29295198 -0.76375138]\n",
      " [-1.26919645  0.36435457]\n",
      " [-2.64290985  0.92670599]\n",
      " [-3.03774997  0.09890369]\n",
      " [-1.53823416  0.52876993]\n",
      " [-3.06635297 -0.58298097]\n",
      " [-1.95796472  0.58760303]]\n",
      "X2: [[ 3.17468322  0.35714319]\n",
      " [ 3.63720664 -0.12073307]\n",
      " [ 2.31228739 -1.05127968]\n",
      " [ 2.09970361  1.14498775]\n",
      " [-0.59529366 -2.1863155 ]\n",
      " [ 2.53518248 -0.22778382]\n",
      " [ 2.56869062  0.67222843]\n",
      " [ 1.16840187  0.53864762]\n",
      " [ 2.46825571  0.50175078]\n",
      " [ 2.40465727  0.64948911]\n",
      " [ 1.8907504  -1.50293293]\n",
      " [ 0.46492451 -1.73434966]\n",
      " [ 0.54182748 -0.71912091]\n",
      " [ 2.6887668   0.96863427]\n",
      " [ 2.76227622 -0.16330184]\n",
      " [-0.26430294 -0.75804282]\n",
      " [ 2.7511794   0.71636164]\n",
      " [ 1.91628725  1.18989397]\n",
      " [ 2.24613045  0.54844839]\n",
      " [ 2.55094339 -1.6182039 ]\n",
      " [ 3.72681779 -0.08237998]\n",
      " [ 2.59900917  0.96094888]\n",
      " [ 1.30874311  0.27121623]\n",
      " [ 1.89213653 -1.75684072]\n",
      " [ 2.38897796  0.78760329]\n",
      " [ 1.50359592  0.94980642]\n",
      " [ 0.76392157  0.20052691]\n",
      " [ 4.23647771  1.69481231]\n",
      " [ 1.54788621 -0.01721818]\n",
      " [ 0.80959063 -0.19819706]\n",
      " [ 2.86684681  0.13003196]\n",
      " [ 3.20106825  0.12412408]\n",
      " [ 3.11609822  0.23820712]\n",
      " [ 0.48865024  0.1625765 ]\n",
      " [ 0.68756453 -1.40296695]\n",
      " [ 2.660459   -0.12195836]\n",
      " [ 1.03467874  0.46622925]\n",
      " [ 3.73624637 -0.28294231]\n",
      " [ 0.89767556 -0.93661596]\n",
      " [ 3.49708988 -1.3255879 ]\n",
      " [ 0.85018836  0.81389847]\n",
      " [ 3.03937884  1.00066266]\n",
      " [ 0.8519445  -0.0867035 ]\n",
      " [ 1.40494713 -1.0777989 ]\n",
      " [ 2.6448954  -0.96224797]\n",
      " [ 2.69727497  0.48428024]\n",
      " [ 0.50181138 -1.31839128]\n",
      " [ 0.60518636  0.86861007]\n",
      " [ 2.79225722 -1.33355747]\n",
      " [ 1.20302099  0.29955666]\n",
      " [ 1.20995237 -1.02538394]\n",
      " [ 3.06512244  0.22795004]\n",
      " [ 3.21014367 -1.56655846]\n",
      " [ 2.23677965 -1.08467958]\n",
      " [ 1.95657023 -0.72996451]\n",
      " [ 2.36192092 -0.155542  ]\n",
      " [ 2.32282653 -0.25036056]\n",
      " [ 3.88779302  1.87776329]\n",
      " [ 0.27076721  0.53611525]\n",
      " [ 3.10826261  1.10559297]\n",
      " [ 2.5037039   1.36316239]\n",
      " [ 2.91482906  0.56704313]\n",
      " [ 0.88103877  0.98319642]\n",
      " [-0.2101377  -1.1429547 ]\n",
      " [ 1.63931593  0.50209662]\n",
      " [ 1.7156653   0.05147416]\n",
      " [ 2.58415604 -0.67597293]\n",
      " [ 1.78687411  0.83991475]\n",
      " [ 1.30461124  1.87270387]\n",
      " [ 1.97514561  1.32472746]\n",
      " [ 3.59451717  0.34660343]\n",
      " [ 1.02465152 -1.25203973]\n",
      " [ 1.1789989  -0.21703738]\n",
      " [ 1.27147795 -1.51888463]\n",
      " [ 1.86257484 -0.03643929]\n",
      " [ 2.46851858 -1.20707368]\n",
      " [ 1.16599971 -0.22383576]\n",
      " [ 1.21322186 -0.10756253]\n",
      " [ 3.17720217 -1.06275272]\n",
      " [ 2.25946221 -1.36464207]\n",
      " [ 1.24857701 -0.72543506]\n",
      " [ 2.25612098  1.47752159]\n",
      " [ 3.20784142 -0.37515822]\n",
      " [ 1.49898837  0.470904  ]\n",
      " [ 2.78743257  1.60341329]\n",
      " [ 2.99685062 -0.10567163]\n",
      " [ 0.75459034  0.49246467]\n",
      " [ 3.24612384  1.5355634 ]\n",
      " [ 1.89780584 -0.111859  ]\n",
      " [ 1.42136733  0.40583361]\n",
      " [ 2.22084236 -0.4424754 ]\n",
      " [ 1.40716567 -0.0394811 ]\n",
      " [ 1.8750716   0.58715416]\n",
      " [ 1.80168919 -1.423812  ]\n",
      " [ 0.51065863  0.48120343]\n",
      " [ 2.3446942  -0.52884939]\n",
      " [ 2.46062797 -1.42220895]\n",
      " [ 2.5585726   1.33480351]\n",
      " [ 1.38889957  0.08203784]\n",
      " [ 2.63576772 -0.45250222]]\n"
     ]
    }
   ],
   "source": [
    "X1 = np.random.normal(loc=[-2,0], scale=[1,1], size=[100,2])\n",
    "X2 = np.random.normal(loc=[2,0], scale=[1,1], size=[100,2])\n",
    "print(\"X1:\", X1)\n",
    "print(f\"X2: {X2}\") # f strings are a python 3 thing."
   ]
  },
  {
   "cell_type": "markdown",
   "metadata": {},
   "source": [
    "Important sidenote about numpy arrays: they have a shape. Each entry in the shape is an \"axis,\" starting at 0."
   ]
  },
  {
   "cell_type": "code",
   "execution_count": 110,
   "metadata": {},
   "outputs": [
    {
     "name": "stdout",
     "output_type": "stream",
     "text": [
      "(100, 2)\n"
     ]
    }
   ],
   "source": [
    "print(X1.shape)"
   ]
  },
  {
   "cell_type": "markdown",
   "metadata": {},
   "source": [
    "Now, let's plot this data. `plt.plot` is a very versatile function that you will use almost every time you \n",
    "want to plot something. In a basic usage, it takes the `X`s, the `Y`s, and an optional format string. Matplotlib lets you call `plot` multiple times to plot onto the same figure.\n",
    "\n",
    "Full documentation [here](https://matplotlib.org/api/_as_gen/matplotlib.pyplot.plot.html)."
   ]
  },
  {
   "cell_type": "code",
   "execution_count": 35,
   "metadata": {},
   "outputs": [
    {
     "data": {
      "image/png": "[encoded data removed]",
      "text/plain": [
       "<Figure size 432x288 with 1 Axes>"
      ]
     },
     "metadata": {
      "needs_background": "light"
     },
     "output_type": "display_data"
    }
   ],
   "source": [
    "plt.plot(X1[:,0], X1[:,1], 'b.')\n",
    "plt.plot(X2[:,0], X2[:,1], 'g.')\n",
    "plt.show()"
   ]
  },
  {
   "cell_type": "markdown",
   "metadata": {},
   "source": [
    "Say I wanted to plot the points that have a positive `y` value differently from those with a negative `y` value (for whatever reason). Numpy has great tools for slicing to be able to do this. In particular, we can grab the indices where this is true:"
   ]
  },
  {
   "cell_type": "code",
   "execution_count": 36,
   "metadata": {},
   "outputs": [
    {
     "name": "stdout",
     "output_type": "stream",
     "text": [
      "X1 positive: [False  True  True False  True False  True  True False  True False False\n",
      " False  True  True  True False False  True False False False  True False\n",
      " False  True False False  True  True False False  True False  True  True\n",
      " False  True False  True False False  True False  True  True False False\n",
      " False  True  True False False  True  True  True False False  True False\n",
      "  True  True False False  True  True False False False  True  True  True\n",
      " False  True  True  True  True False False  True False  True False  True\n",
      " False False  True False  True False  True False  True False  True False\n",
      " False  True  True False]\n",
      "X1 negative: [ True False False  True False  True False False  True False  True  True\n",
      "  True False False False  True  True False  True  True  True False  True\n",
      "  True False  True  True False False  True  True False  True False False\n",
      "  True False  True False  True  True False  True False False  True  True\n",
      "  True False False  True  True False False False  True  True False  True\n",
      " False False  True  True False False  True  True  True False False False\n",
      "  True False False False False  True  True False  True False  True False\n",
      "  True  True False  True False  True False  True False  True False  True\n",
      "  True False False  True]\n"
     ]
    }
   ],
   "source": [
    "X1_positive = X1[:,1] > 0.\n",
    "X2_positive = X2[:,1] > 0.\n",
    "\n",
    "print(\"X1 positive:\", X1_positive)\n",
    "print(\"X1 negative:\", np.logical_not(X1_positive))"
   ]
  },
  {
   "cell_type": "markdown",
   "metadata": {},
   "source": [
    "And we can plot each set of points separately:"
   ]
  },
  {
   "cell_type": "code",
   "execution_count": 37,
   "metadata": {},
   "outputs": [
    {
     "data": {
      "image/png": "[encoded data removed]",
      "text/plain": [
       "<Figure size 432x288 with 1 Axes>"
      ]
     },
     "metadata": {
      "needs_background": "light"
     },
     "output_type": "display_data"
    }
   ],
   "source": [
    "plt.plot(X1[X1_positive,0], X1[X1_positive,1], 'b.')\n",
    "plt.plot(X1[np.logical_not(X1_positive),0], X1[np.logical_not(X1_positive),1], 'bx')\n",
    "\n",
    "plt.plot(X2[X2_positive,0], X2[X2_positive,1], 'g.')\n",
    "plt.plot(X2[np.logical_not(X2_positive),0], X2[np.logical_not(X2_positive),1], 'gx')\n",
    "\n",
    "plt.show()"
   ]
  },
  {
   "cell_type": "markdown",
   "metadata": {},
   "source": [
    "If we wanted all the indices at which this were true, we could get:"
   ]
  },
  {
   "cell_type": "code",
   "execution_count": 41,
   "metadata": {},
   "outputs": [
    {
     "name": "stdout",
     "output_type": "stream",
     "text": [
      "[ 1  2  4  6  7  9 13 14 15 18 22 25 28 29 32 34 35 37 39 42 44 45 49 50\n",
      " 53 54 55 58 60 61 64 65 69 70 71 73 74 75 76 79 81 83 86 88 90 92 94 97\n",
      " 98]\n"
     ]
    }
   ],
   "source": [
    "X1_indices, = np.where(X1[:,1] > 0)\n",
    "print(X1_indices)"
   ]
  },
  {
   "cell_type": "markdown",
   "metadata": {},
   "source": [
    "Now, let's combine both sets into one array and shuffle it, so we don't know which point belongs to which distribution."
   ]
  },
  {
   "cell_type": "code",
   "execution_count": 46,
   "metadata": {},
   "outputs": [
    {
     "name": "stdout",
     "output_type": "stream",
     "text": [
      "[[-2.18030954e+00  4.78820525e-01]\n",
      " [-2.85044227e+00 -1.12448516e+00]\n",
      " [ 6.85201498e-01  9.43503702e-01]\n",
      " [ 1.35072814e+00 -3.69325637e-01]\n",
      " [ 2.83784950e+00 -8.91654081e-01]\n",
      " [-1.12501660e+00  1.11790922e-01]\n",
      " [ 2.39541479e+00  1.04296554e-02]\n",
      " [-1.45328385e+00 -1.09816381e+00]\n",
      " [ 2.25001020e+00  8.42499991e-02]\n",
      " [-5.56803907e-01 -5.55552965e-01]\n",
      " [ 3.33918193e+00  4.76671426e-01]\n",
      " [-1.76637220e+00 -6.58215892e-01]\n",
      " [ 2.55771253e+00 -3.54202066e-01]\n",
      " [-1.65331897e+00  9.69264504e-01]\n",
      " [ 2.56181431e+00  9.62499117e-01]\n",
      " [-3.31374960e-01 -1.71041281e-01]\n",
      " [-2.21492527e+00  3.51116391e-01]\n",
      " [ 3.19670224e+00  2.22980882e+00]\n",
      " [-3.62647573e-01 -8.23109346e-02]\n",
      " [-2.85707332e+00  1.68439739e-01]\n",
      " [-1.27353315e+00 -2.83560672e-01]\n",
      " [-2.70946173e+00 -9.07605838e-01]\n",
      " [-2.29161538e+00  1.36282021e+00]\n",
      " [ 2.21231073e+00 -1.53755891e+00]\n",
      " [-2.55358004e+00 -9.48663906e-02]\n",
      " [-2.15407117e+00 -8.27459542e-01]\n",
      " [ 4.12762434e+00 -1.76201280e+00]\n",
      " [-3.01606980e+00 -1.20321093e+00]\n",
      " [ 1.27715401e+00  3.88613917e-01]\n",
      " [ 3.83011928e+00 -7.35651560e-01]\n",
      " [ 1.76952636e+00  7.27473081e-01]\n",
      " [-7.75286205e-01 -1.57006261e+00]\n",
      " [ 1.35165057e+00  9.83113515e-01]\n",
      " [ 1.68650467e+00 -1.08869318e+00]\n",
      " [ 3.53988087e+00  1.58383744e-01]\n",
      " [ 4.27432523e+00 -3.77166957e-01]\n",
      " [-3.86566502e+00  1.42717571e+00]\n",
      " [ 2.37593725e+00 -1.56869298e+00]\n",
      " [-2.61300752e+00  1.56729979e+00]\n",
      " [-2.27470156e+00  7.37081802e-01]\n",
      " [-1.84026961e+00  1.02935727e+00]\n",
      " [ 8.35452625e-01  5.27543684e-01]\n",
      " [ 1.61827243e+00  5.55473382e-01]\n",
      " [ 2.86363055e+00  4.67529602e-01]\n",
      " [-2.84393169e+00  5.69110177e-01]\n",
      " [-2.51857246e+00 -5.80506849e-01]\n",
      " [ 2.61604594e+00 -2.03239731e-01]\n",
      " [ 9.27926229e-01 -1.32889355e+00]\n",
      " [-8.03758524e-01 -7.81003469e-01]\n",
      " [-2.68571443e+00  1.23880155e+00]\n",
      " [ 3.25015244e-01 -5.69597190e-03]\n",
      " [ 2.52387444e+00 -1.32783791e+00]\n",
      " [-3.71169093e+00  3.34646180e+00]\n",
      " [-2.32146613e+00 -1.36104389e+00]\n",
      " [ 1.49266188e+00  4.94181249e-01]\n",
      " [-1.17171973e-01  2.46063032e+00]\n",
      " [-1.52202572e+00  7.20212118e-02]\n",
      " [ 1.98410227e+00 -4.37989538e-01]\n",
      " [-3.55668262e+00 -4.99847449e-01]\n",
      " [ 2.36930983e+00 -1.60668990e+00]\n",
      " [-1.33678262e+00 -1.86462427e-01]\n",
      " [-2.16069472e+00  3.91939820e-01]\n",
      " [ 1.80279230e+00  4.19570501e-01]\n",
      " [-1.29177115e+00  4.07881232e-01]\n",
      " [-1.34981799e+00  3.62337349e-02]\n",
      " [ 2.62065329e+00  2.10262864e+00]\n",
      " [ 5.48255332e-01  1.57363174e-01]\n",
      " [ 2.68097638e+00  1.11028787e+00]\n",
      " [-2.44762936e+00  1.98195208e+00]\n",
      " [-3.46674821e-01 -1.32130222e-01]\n",
      " [ 2.08202372e+00  1.90832452e-01]\n",
      " [-1.64718912e+00 -1.66429187e+00]\n",
      " [-3.65445244e-01  1.81268855e+00]\n",
      " [ 3.14346024e+00 -1.20267752e+00]\n",
      " [ 1.49244834e+00 -8.82914956e-02]\n",
      " [-8.19542684e-02  4.31712255e-01]\n",
      " [ 1.77879858e+00 -3.20317042e-01]\n",
      " [-3.56500993e+00 -4.98212937e-03]\n",
      " [-1.68278183e+00  2.02454022e-01]\n",
      " [-2.06605038e+00  7.01732084e-01]\n",
      " [-8.12721115e-01  8.93548116e-01]\n",
      " [ 3.06701756e+00 -2.24329486e+00]\n",
      " [ 3.28011833e+00 -9.99841082e-02]\n",
      " [ 1.13037354e+00 -4.69066357e-01]\n",
      " [-4.23320198e+00 -1.01480993e+00]\n",
      " [ 1.57563249e+00 -8.34266654e-01]\n",
      " [-2.86863185e+00 -1.71855741e+00]\n",
      " [-1.71079967e+00 -3.82921926e-01]\n",
      " [ 8.97013929e-01  6.58088057e-01]\n",
      " [ 1.76282331e+00  1.11866696e+00]\n",
      " [ 8.97707831e-01  7.53005978e-01]\n",
      " [-3.50393771e+00 -1.45404942e+00]\n",
      " [-2.24739112e+00 -4.67871870e-01]\n",
      " [-8.95438774e-01 -8.96807493e-01]\n",
      " [ 3.83259352e+00  5.72320481e-02]\n",
      " [ 2.92332258e+00  3.70828214e-01]\n",
      " [ 2.13669481e+00 -6.56184414e-01]\n",
      " [ 3.50547757e+00 -1.30762178e+00]\n",
      " [ 2.29307003e+00  3.86470511e-02]\n",
      " [-1.99080534e+00 -1.73892905e+00]\n",
      " [-1.51593173e+00  1.21992475e+00]\n",
      " [ 8.71658784e-01 -1.04770993e+00]\n",
      " [-3.59982172e+00  1.81877476e+00]\n",
      " [ 1.42960437e-01 -1.20238266e+00]\n",
      " [ 5.35353334e-01 -1.64575199e+00]\n",
      " [-2.05873543e+00  4.91224265e-01]\n",
      " [-2.73018991e+00 -9.84365465e-01]\n",
      " [ 2.92018488e+00  1.00239025e+00]\n",
      " [ 2.37018019e+00 -2.09734821e-03]\n",
      " [ 2.60675200e+00  3.55904222e-01]\n",
      " [-2.38499806e+00 -5.21166014e-01]\n",
      " [-9.67049909e-01  8.91269235e-01]\n",
      " [-2.11285238e+00 -7.98166044e-02]\n",
      " [-1.62636586e+00  1.72205409e-01]\n",
      " [-3.52368333e+00  5.11030306e-01]\n",
      " [-1.68126606e+00 -8.38378131e-01]\n",
      " [ 8.49672709e-01 -3.72403344e-01]\n",
      " [ 2.19909400e+00 -1.67699347e+00]\n",
      " [-1.25263293e+00  1.43190355e-01]\n",
      " [ 1.25353600e+00 -1.92506066e+00]\n",
      " [ 3.00540718e+00 -4.16575602e-01]\n",
      " [-2.71040314e+00 -1.42706307e+00]\n",
      " [ 1.28935896e+00  1.80297332e-01]\n",
      " [-4.04394746e+00 -1.52013204e-01]\n",
      " [ 8.77360975e-01 -1.29183401e+00]\n",
      " [ 8.53818658e-01  3.39123431e-01]\n",
      " [ 2.58160191e+00  1.39217115e+00]\n",
      " [ 3.03008761e+00  7.20080009e-01]\n",
      " [-2.78736619e+00 -1.30561911e+00]\n",
      " [ 3.46747126e+00  6.50160235e-02]\n",
      " [ 1.82991187e+00 -2.56682976e+00]\n",
      " [-2.19734751e+00 -7.91938603e-01]\n",
      " [-2.06646108e+00  4.27880852e-01]\n",
      " [ 6.86441015e-01 -8.87501111e-01]\n",
      " [-4.51883071e+00  6.33672894e-01]\n",
      " [ 3.39319820e-01  8.75441221e-01]\n",
      " [ 1.74612410e+00  1.16498739e+00]\n",
      " [-1.39471836e-01 -3.26204746e-01]\n",
      " [-4.81195805e+00  1.40971138e+00]\n",
      " [-2.04464333e+00 -1.24661217e+00]\n",
      " [ 3.82044840e+00 -5.80253080e-01]\n",
      " [ 5.62734946e-01 -4.56195105e-01]\n",
      " [-2.75024651e+00 -3.18838116e-01]\n",
      " [-4.22033094e-01  6.31570817e-01]\n",
      " [ 1.61055523e+00  2.15046311e+00]\n",
      " [ 1.86310390e+00 -4.81362612e-01]\n",
      " [-3.48473504e+00  1.56916675e+00]\n",
      " [-2.49239798e+00  5.58852937e-02]\n",
      " [ 2.19690318e+00  1.47434132e+00]\n",
      " [-1.41106576e+00  8.26986057e-01]\n",
      " [-8.37431356e-01 -2.96737774e-01]\n",
      " [ 7.16477421e-01 -1.14780436e-01]\n",
      " [ 1.45868432e+00  1.16568330e-01]\n",
      " [ 2.38231366e+00 -2.65235479e-01]\n",
      " [-1.60677928e+00  1.52767120e-01]\n",
      " [ 1.87058932e+00  1.40359190e+00]\n",
      " [-3.48532890e+00  2.59774502e+00]\n",
      " [ 1.83350192e+00  7.89857809e-01]\n",
      " [ 2.65590908e+00  1.11669840e+00]\n",
      " [ 3.54275610e+00 -7.06094060e-01]\n",
      " [ 2.61538093e+00 -1.06911359e+00]\n",
      " [-2.39478787e+00 -2.41045006e-01]\n",
      " [-3.34314820e+00 -5.65293161e-01]\n",
      " [-1.58054482e+00  3.16206079e-01]\n",
      " [ 2.48473708e+00  4.32950464e-01]\n",
      " [ 3.12528966e+00  8.67552040e-01]\n",
      " [ 2.27280568e+00 -7.73865165e-02]\n",
      " [-1.91300122e+00  1.15104602e+00]\n",
      " [-3.17986587e+00  1.63666313e-02]\n",
      " [-2.71288765e-01  6.22869520e-01]\n",
      " [-1.74241628e+00 -5.23533860e-01]\n",
      " [-1.81871019e+00  8.94302597e-01]\n",
      " [ 1.55979733e+00 -6.49776337e-01]\n",
      " [ 9.92038849e-01 -1.31364533e+00]\n",
      " [ 1.70820801e+00 -7.62831536e-03]\n",
      " [ 1.59651006e+00 -1.35669936e+00]\n",
      " [-1.59744860e+00  1.28215233e+00]\n",
      " [ 3.90646193e+00 -5.84745509e-01]\n",
      " [ 1.24827917e+00  2.36845752e-01]\n",
      " [ 1.49836145e+00  6.08002563e-01]\n",
      " [ 7.02786341e-01  1.79200443e+00]\n",
      " [-2.63894327e+00 -1.36746189e+00]\n",
      " [ 2.53481628e+00  1.02470928e-01]\n",
      " [-2.12363786e+00 -2.24608265e+00]\n",
      " [-2.26742609e+00 -7.31125939e-01]\n",
      " [ 1.73804418e+00  1.00217756e+00]\n",
      " [-6.94811219e-01 -2.78025283e-01]\n",
      " [-2.56071175e+00 -9.82587187e-01]\n",
      " [-8.19043390e-02 -2.91871313e-01]\n",
      " [-3.32010643e+00  1.88265048e-01]\n",
      " [ 1.19500080e-01 -6.85371128e-01]\n",
      " [-2.69874346e+00  2.46393868e+00]\n",
      " [-1.72781518e+00  3.04480171e-01]\n",
      " [-4.97370679e-01 -5.23444735e-01]\n",
      " [-1.53694743e+00 -1.76592234e-01]\n",
      " [-2.09392923e+00  1.63705146e+00]\n",
      " [ 1.65422270e+00  1.07990645e+00]\n",
      " [ 1.52677305e+00 -5.69181482e-01]\n",
      " [-2.40774703e+00 -1.08200970e+00]\n",
      " [-2.90985981e+00 -1.06375165e+00]]\n"
     ]
    }
   ],
   "source": [
    "X = np.concatenate((X1,X2), axis=0) # add rows (axis 0) of X2 after rows of X1\n",
    "np.random.shuffle(X)    # shuffle the first axis of X in place\n",
    "print(X)"
   ]
  },
  {
   "cell_type": "code",
   "execution_count": 52,
   "metadata": {},
   "outputs": [
    {
     "data": {
      "image/png": "[encoded data removed]",
      "text/plain": [
       "<Figure size 432x288 with 1 Axes>"
      ]
     },
     "metadata": {
      "needs_background": "light"
     },
     "output_type": "display_data"
    }
   ],
   "source": [
    "plt.plot(X[:,0], X[:,1], color='gray', marker='.', linestyle='')\n",
    "plt.show()"
   ]
  },
  {
   "cell_type": "markdown",
   "metadata": {},
   "source": [
    "We can run k-means clustering on the data like so:"
   ]
  },
  {
   "cell_type": "code",
   "execution_count": 55,
   "metadata": {},
   "outputs": [
    {
     "name": "stdout",
     "output_type": "stream",
     "text": [
      "[0 0 1 1 1 0 1 0 1 0 1 0 1 0 1 0 0 1 0 0 0 0 0 1 0 0 1 0 1 1 1 0 1 1 1 1 0\n",
      " 1 0 0 0 1 1 1 0 0 1 1 0 0 1 1 0 0 1 0 0 1 0 1 0 0 1 0 0 1 1 1 0 0 1 0 0 1\n",
      " 1 0 1 0 0 0 0 1 1 1 0 1 0 0 1 1 1 0 0 0 1 1 1 1 1 0 0 1 0 1 1 0 0 1 1 1 0\n",
      " 0 0 0 0 0 1 1 0 1 1 0 1 0 1 1 1 1 0 1 1 0 0 1 0 1 1 0 0 0 1 1 0 0 1 1 0 0\n",
      " 1 0 0 1 1 1 0 1 0 1 1 1 1 0 0 0 1 1 1 0 0 0 0 0 1 1 1 1 0 1 1 1 1 0 1 0 0\n",
      " 1 0 0 0 0 1 0 0 0 0 0 1 1 0 0]\n"
     ]
    }
   ],
   "source": [
    "kmeans = KMeans(n_clusters=2, n_jobs=-1)\n",
    "kmeans.fit(X)\n",
    "labels = kmeans.predict(X)\n",
    "print(labels)"
   ]
  },
  {
   "cell_type": "code",
   "execution_count": 56,
   "metadata": {},
   "outputs": [
    {
     "data": {
      "image/png": "[encoded data removed]",
      "text/plain": [
       "<Figure size 432x288 with 1 Axes>"
      ]
     },
     "metadata": {
      "needs_background": "light"
     },
     "output_type": "display_data"
    }
   ],
   "source": [
    "plt.plot(X[labels == 0,0], X[labels == 0, 1], 'r.')\n",
    "plt.plot(X[labels == 1,0], X[labels == 1, 1], 'k.')\n",
    "plt.show()"
   ]
  },
  {
   "cell_type": "markdown",
   "metadata": {},
   "source": [
    "## Useful Tricks for Linear Algebra\n",
    "\n",
    "Numpy and SciPy have lots of great features for linear algebra. Here are a few."
   ]
  },
  {
   "cell_type": "code",
   "execution_count": 87,
   "metadata": {},
   "outputs": [
    {
     "name": "stdout",
     "output_type": "stream",
     "text": [
      "a = [3.14159265 2.         5.        ]\n",
      "b = [2.71828183 0.         3.        ]\n",
      "I = [[1. 0. 0.]\n",
      " [0. 1. 0.]\n",
      " [0. 0. 1.]]\n",
      "J = [[1. 1. 1.]\n",
      " [1. 1. 1.]\n",
      " [1. 1. 1.]]\n"
     ]
    }
   ],
   "source": [
    "a = np.array([np.pi, 2, 5])\n",
    "b = np.array([np.e, 0, 3])\n",
    "I = np.identity(3)\n",
    "J = np.ones_like(I)\n",
    "\n",
    "print(\"a =\", a)\n",
    "print(\"b =\", b)\n",
    "print(\"I =\", I)\n",
    "print(\"J =\", J)"
   ]
  },
  {
   "cell_type": "code",
   "execution_count": 88,
   "metadata": {},
   "outputs": [
    {
     "data": {
      "text/plain": [
       "23.539734222673566"
      ]
     },
     "execution_count": 88,
     "metadata": {},
     "output_type": "execute_result"
    }
   ],
   "source": [
    "# Dot product:\n",
    "np.dot(a,b)"
   ]
  },
  {
   "cell_type": "code",
   "execution_count": 89,
   "metadata": {},
   "outputs": [
    {
     "data": {
      "text/plain": [
       "23.539734222673566"
      ]
     },
     "execution_count": 89,
     "metadata": {},
     "output_type": "execute_result"
    }
   ],
   "source": [
    "# Or, in python 3:\n",
    "a @ b"
   ]
  },
  {
   "cell_type": "code",
   "execution_count": 90,
   "metadata": {},
   "outputs": [
    {
     "data": {
      "text/plain": [
       "array([10.14159265, 10.14159265, 10.14159265])"
      ]
     },
     "execution_count": 90,
     "metadata": {},
     "output_type": "execute_result"
    }
   ],
   "source": [
    "# Matrix multiplication:\n",
    "J @ a"
   ]
  },
  {
   "cell_type": "code",
   "execution_count": 91,
   "metadata": {},
   "outputs": [
    {
     "data": {
      "text/plain": [
       "array([[ 8.53973422,  0.        ,  9.42477796],\n",
       "       [ 5.43656366,  0.        ,  6.        ],\n",
       "       [13.59140914,  0.        , 15.        ]])"
      ]
     },
     "execution_count": 91,
     "metadata": {},
     "output_type": "execute_result"
    }
   ],
   "source": [
    "# outer product:\n",
    "M = np.outer(a,b)\n",
    "M"
   ]
  },
  {
   "cell_type": "code",
   "execution_count": 92,
   "metadata": {},
   "outputs": [
    {
     "data": {
      "text/plain": [
       "array([[ 8.53973422,  5.43656366, 13.59140914],\n",
       "       [ 0.        ,  0.        ,  0.        ],\n",
       "       [ 9.42477796,  6.        , 15.        ]])"
      ]
     },
     "execution_count": 92,
     "metadata": {},
     "output_type": "execute_result"
    }
   ],
   "source": [
    "# transpose:\n",
    "M.T"
   ]
  },
  {
   "cell_type": "code",
   "execution_count": 97,
   "metadata": {},
   "outputs": [
    {
     "name": "stdout",
     "output_type": "stream",
     "text": [
      "error: M not inversible\n"
     ]
    },
    {
     "data": {
      "text/plain": [
       "array([[0.01340542, 0.00853415, 0.02133538],\n",
       "       [0.        , 0.        , 0.        ],\n",
       "       [0.01479473, 0.00941862, 0.02354655]])"
      ]
     },
     "execution_count": 97,
     "metadata": {},
     "output_type": "execute_result"
    }
   ],
   "source": [
    "# inverse:\n",
    "try:\n",
    "    out = np.linalg.inv(M) # raises an error if M not inversible\n",
    "except:\n",
    "    print(\"error: M not inversible\")\n",
    "    out = np.linalg.pinv(M)\n",
    "out"
   ]
  },
  {
   "cell_type": "code",
   "execution_count": 98,
   "metadata": {},
   "outputs": [
    {
     "name": "stdout",
     "output_type": "stream",
     "text": [
      "Sorted eigenvalues: [0.00000000e+00 1.77635684e-15 2.35397342e+01]\n",
      "Eigenvector matrix: [[ 0.         -0.66281034 -0.50390053]\n",
      " [ 1.          0.4472136  -0.32079304]\n",
      " [ 0.          0.60056844 -0.8019826 ]]\n"
     ]
    }
   ],
   "source": [
    "# eigenvalue problems:\n",
    "w, v = np.linalg.eig(M)\n",
    "print(\"Sorted eigenvalues:\", w)\n",
    "print(\"Eigenvector matrix:\", v)"
   ]
  },
  {
   "cell_type": "code",
   "execution_count": 102,
   "metadata": {},
   "outputs": [
    {
     "data": {
      "text/plain": [
       "6.234549254043099"
      ]
     },
     "execution_count": 102,
     "metadata": {},
     "output_type": "execute_result"
    }
   ],
   "source": [
    "# vector norm\n",
    "np.linalg.norm(a)"
   ]
  },
  {
   "cell_type": "code",
   "execution_count": 103,
   "metadata": {},
   "outputs": [
    {
     "data": {
      "text/plain": [
       "25.239574621468865"
      ]
     },
     "execution_count": 103,
     "metadata": {},
     "output_type": "execute_result"
    }
   ],
   "source": [
    "# frobenius norm\n",
    "np.linalg.norm(M)"
   ]
  },
  {
   "cell_type": "code",
   "execution_count": 104,
   "metadata": {},
   "outputs": [
    {
     "data": {
      "text/plain": [
       "array([12.71823495,  8.09667984, 20.24169959])"
      ]
     },
     "execution_count": 104,
     "metadata": {},
     "output_type": "execute_result"
    }
   ],
   "source": [
    "# row-wise norm\n",
    "np.linalg.norm(M, axis=1)"
   ]
  },
  {
   "cell_type": "code",
   "execution_count": 99,
   "metadata": {},
   "outputs": [
    {
     "data": {
      "text/plain": [
       "array([[17.07946845,  0.        , 18.84955592],\n",
       "       [10.87312731,  0.        , 12.        ],\n",
       "       [27.18281828,  0.        , 30.        ]])"
      ]
     },
     "execution_count": 99,
     "metadata": {},
     "output_type": "execute_result"
    }
   ],
   "source": [
    "# Simple mathematical expressions are applied to each element\n",
    "2*M + 1"
   ]
  },
  {
   "cell_type": "code",
   "execution_count": 105,
   "metadata": {},
   "outputs": [
    {
     "data": {
      "text/plain": [
       "array([[ 72.92706059,   0.        ,  88.82643961],\n",
       "       [ 29.5562244 ,   0.        ,  36.        ],\n",
       "       [184.72640247,   0.        , 225.        ]])"
      ]
     },
     "execution_count": 105,
     "metadata": {},
     "output_type": "execute_result"
    }
   ],
   "source": [
    "M**2"
   ]
  },
  {
   "cell_type": "code",
   "execution_count": 107,
   "metadata": {},
   "outputs": [
    {
     "data": {
      "text/plain": [
       "array([[3.14159265],\n",
       "       [2.        ],\n",
       "       [5.        ]])"
      ]
     },
     "execution_count": 107,
     "metadata": {},
     "output_type": "execute_result"
    }
   ],
   "source": [
    "# reshaping arrays is pretty important:\n",
    "a.reshape(-1,1)"
   ]
  },
  {
   "cell_type": "code",
   "execution_count": 108,
   "metadata": {},
   "outputs": [
    {
     "data": {
      "text/plain": [
       "array([ 8.53973422,  0.        ,  9.42477796,  5.43656366,  0.        ,\n",
       "        6.        , 13.59140914,  0.        , 15.        ])"
      ]
     },
     "execution_count": 108,
     "metadata": {},
     "output_type": "execute_result"
    }
   ],
   "source": [
    "M.reshape(-1)"
   ]
  },
  {
   "cell_type": "code",
   "execution_count": null,
   "metadata": {},
   "outputs": [],
   "source": []
  }
 ],
 "metadata": {
  "kernelspec": {
   "display_name": "Python 3",
   "language": "python",
   "name": "python3"
  },
  "language_info": {
   "codemirror_mode": {
    "name": "ipython",
    "version": 3
   },
   "file_extension": ".py",
   "mimetype": "text/x-python",
   "name": "python",
   "nbconvert_exporter": "python",
   "pygments_lexer": "ipython3",
   "version": "3.7.2"
  }
 },
 "nbformat": 4,
 "nbformat_minor": 2
}
