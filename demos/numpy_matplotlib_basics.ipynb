{
 "cells": [
  {
   "cell_type": "markdown",
   "metadata": {},
   "source": [
    "# The Basics: Numpy and Matplotlib\n",
    "\n",
    "Python is amazing! It provides a data science platform that is flexible, powerful, and easy to use. In this demo, we're going to do some simple data processing with `numpy` and `matplotlib`, two of the most essential packages for data science in Python.\n",
    "\n",
    "## Installation\n",
    "\n",
    "It is recommended that you use Python 3. Downloadable binaries are available \n",
    "[here](https://www.python.org/downloads/), \n",
    "\n",
    "### For Mac Users \n",
    "Please install [Homebrew](https://brew.sh/) and once installed run the following in a terminal:\n",
    "```\n",
    "brew install -U python3\n",
    "```\n",
    "to install Python 3.  If you are using a different work environment or have issues please come to the Wednesday office hours.\n",
    "\n",
    "Once you have Python3 installed, the packages needed for this class can be installed using `pip`. Run\n",
    "```\n",
    "python3 -m pip install -U jupyter numpy scipy matplotlib scikit-learn\n",
    "```\n",
    "to install the packages you will need for homework 1, including jupyter notebook. You can then launch a jupyter notebook with\n",
    "```\n",
    "jupyter notebook\n",
    "```"
   ]
  },
  {
   "cell_type": "markdown",
   "metadata": {},
   "source": [
    "## Imports\n",
    "\n",
    "All your import statements should be at the beginning of the file in one cell. Preferrably, you should use the common abbreviations for each."
   ]
  },
  {
   "cell_type": "code",
   "execution_count": 9,
   "metadata": {},
   "outputs": [],
   "source": [
    "import numpy as np\n",
    "import matplotlib.pyplot as plt\n",
    "from sklearn.cluster import KMeans\n",
    "\n",
    "%matplotlib inline"
   ]
  },
  {
   "cell_type": "code",
   "execution_count": 10,
   "metadata": {},
   "outputs": [],
   "source": [
    "# Global variables or definitions used throughout should be defined near the top as well\n",
    "np.set_printoptions(threshold=25)  # this is to have nicer print outs."
   ]
  },
  {
   "cell_type": "markdown",
   "metadata": {},
   "source": [
    "## Demo\n",
    "\n",
    "Let's make some data. In this example, we will draw 100 points on the plane from two normal distributions, each with standard deviation of 1."
   ]
  },
  {
   "cell_type": "code",
   "execution_count": 11,
   "metadata": {},
   "outputs": [
    {
     "name": "stdout",
     "output_type": "stream",
     "text": [
      "X1: [[-3.11350583  0.18495975]\n",
      " [-0.53194059  0.25067932]\n",
      " [-2.10163498 -0.4713688 ]\n",
      " ...\n",
      " [-3.2982044  -0.10357481]\n",
      " [-1.61394632  0.04295917]\n",
      " [-2.05437385  0.16285739]]\n",
      "X2: [[ 2.63662444 -0.07559307]\n",
      " [ 0.65654693 -0.57509447]\n",
      " [ 0.73913396  0.79443324]\n",
      " ...\n",
      " [ 0.98817174 -0.11909176]\n",
      " [ 1.77006887 -0.37322929]\n",
      " [ 2.38368231  1.03348477]]\n"
     ]
    }
   ],
   "source": [
    "X1 = np.random.normal(loc=[-2,0], scale=[1,1], size=[100,2])\n",
    "X2 = np.random.normal(loc=[2,0], scale=[1,1], size=[100,2])\n",
    "print(\"X1:\", X1)\n",
    "print(f\"X2: {X2}\") # f strings are a python 3 thing."
   ]
  },
  {
   "cell_type": "markdown",
   "metadata": {},
   "source": [
    "Important sidenote about numpy arrays: they have a shape. Each entry in the shape is an \"axis,\" starting at 0."
   ]
  },
  {
   "cell_type": "code",
   "execution_count": 12,
   "metadata": {},
   "outputs": [
    {
     "name": "stdout",
     "output_type": "stream",
     "text": [
      "(100, 2)\n"
     ]
    }
   ],
   "source": [
    "print(X1.shape)"
   ]
  },
  {
   "cell_type": "markdown",
   "metadata": {},
   "source": [
    "Now, let's plot this data. `plt.plot` is a very versatile function that you will use almost every time you \n",
    "want to plot something. In a basic usage, it takes the `X`s, the `Y`s, and an optional format string. Matplotlib lets you call `plot` multiple times to plot onto the same figure.\n",
    "\n",
    "Full documentation [here](https://matplotlib.org/api/_as_gen/matplotlib.pyplot.plot.html)."
   ]
  },
  {
   "cell_type": "code",
   "execution_count": 16,
   "metadata": {},
   "outputs": [
    {
     "data": {
      "image/png": "[encoded data removed]",
      "text/plain": [
       "<Figure size 432x288 with 1 Axes>"
      ]
     },
     "metadata": {
      "needs_background": "light"
     },
     "output_type": "display_data"
    }
   ],
   "source": [
    "# plt.plot is taking in all of x values, y values, and color as the 3 arguments.\n",
    "plt.plot(X1[:,0], X1[:,1], 'b.')\n",
    "plt.plot(X2[:,0], X2[:,1], 'g.')\n",
    "plt.show() # use this line to display the results"
   ]
  },
  {
   "cell_type": "markdown",
   "metadata": {},
   "source": [
    "Say I wanted to plot the points that have a positive `y` value differently from those with a negative `y` value (for whatever reason). Numpy has great tools for slicing to be able to do this. In particular, we can grab the indices where this is true:"
   ]
  },
  {
   "cell_type": "code",
   "execution_count": 17,
   "metadata": {},
   "outputs": [
    {
     "name": "stdout",
     "output_type": "stream",
     "text": [
      "X1 positive: [ True  True False ... False  True  True]\n",
      "X1 negative: [False False  True ...  True False False]\n"
     ]
    }
   ],
   "source": [
    "X1_positive = X1[:,1] > 0.\n",
    "X2_positive = X2[:,1] > 0.\n",
    "\n",
    "print(\"X1 positive:\", X1_positive)\n",
    "print(\"X1 negative:\", np.logical_not(X1_positive))"
   ]
  },
  {
   "cell_type": "markdown",
   "metadata": {},
   "source": [
    "And we can plot each set of points separately:"
   ]
  },
  {
   "cell_type": "code",
   "execution_count": 18,
   "metadata": {},
   "outputs": [
    {
     "data": {
      "image/png": "[encoded data removed]",
      "text/plain": [
       "<Figure size 432x288 with 1 Axes>"
      ]
     },
     "metadata": {
      "needs_background": "light"
     },
     "output_type": "display_data"
    }
   ],
   "source": [
    "plt.plot(X1[X1_positive,0], X1[X1_positive,1], 'b.')\n",
    "plt.plot(X1[np.logical_not(X1_positive),0], X1[np.logical_not(X1_positive),1], 'bx')\n",
    "\n",
    "plt.plot(X2[X2_positive,0], X2[X2_positive,1], 'g.')\n",
    "plt.plot(X2[np.logical_not(X2_positive),0], X2[np.logical_not(X2_positive),1], 'gx')\n",
    "\n",
    "plt.show()"
   ]
  },
  {
   "cell_type": "markdown",
   "metadata": {},
   "source": [
    "If we wanted all the indices at which this were true, we could get:"
   ]
  },
  {
   "cell_type": "code",
   "execution_count": 19,
   "metadata": {},
   "outputs": [
    {
     "name": "stdout",
     "output_type": "stream",
     "text": [
      "[ 0  1  3 ... 96 98 99]\n"
     ]
    }
   ],
   "source": [
    "X1_indices, = np.where(X1[:,1] > 0)\n",
    "print(X1_indices)"
   ]
  },
  {
   "cell_type": "markdown",
   "metadata": {},
   "source": [
    "Now, let's combine both sets into one array and shuffle it, so we don't know which point belongs to which distribution."
   ]
  },
  {
   "cell_type": "code",
   "execution_count": 20,
   "metadata": {},
   "outputs": [
    {
     "name": "stdout",
     "output_type": "stream",
     "text": [
      "[[-3.5216428   0.16592805]\n",
      " [ 2.54441953 -0.88440237]\n",
      " [-0.39396736 -1.49356277]\n",
      " ...\n",
      " [ 0.48079178  0.69010519]\n",
      " [-2.94413541 -1.46869752]\n",
      " [-1.63075821  0.13785663]]\n"
     ]
    }
   ],
   "source": [
    "X = np.concatenate((X1,X2), axis=0) # add rows (axis 0) of X2 after rows of X1\n",
    "np.random.shuffle(X)    # shuffle the first axis of X in place\n",
    "print(X)"
   ]
  },
  {
   "cell_type": "code",
   "execution_count": 21,
   "metadata": {},
   "outputs": [
    {
     "data": {
      "image/png": "[encoded data removed]",
      "text/plain": [
       "<Figure size 432x288 with 1 Axes>"
      ]
     },
     "metadata": {
      "needs_background": "light"
     },
     "output_type": "display_data"
    }
   ],
   "source": [
    "plt.plot(X[:,0], X[:,1], color='gray', marker='.', linestyle='')\n",
    "plt.show()"
   ]
  },
  {
   "cell_type": "markdown",
   "metadata": {},
   "source": [
    "We can run k-means clustering on the data like so:"
   ]
  },
  {
   "cell_type": "code",
   "execution_count": 22,
   "metadata": {},
   "outputs": [
    {
     "name": "stdout",
     "output_type": "stream",
     "text": [
      "[0 1 0 ... 1 0 0]\n"
     ]
    }
   ],
   "source": [
    "kmeans = KMeans(n_clusters=2, n_jobs=-1)\n",
    "kmeans.fit(X)\n",
    "labels = kmeans.predict(X)\n",
    "print(labels)"
   ]
  },
  {
   "cell_type": "code",
   "execution_count": 23,
   "metadata": {},
   "outputs": [
    {
     "data": {
      "image/png": "[encoded data removed]",
      "text/plain": [
       "<Figure size 432x288 with 1 Axes>"
      ]
     },
     "metadata": {
      "needs_background": "light"
     },
     "output_type": "display_data"
    }
   ],
   "source": [
    "plt.plot(X[labels == 0,0], X[labels == 0, 1], 'r.')\n",
    "plt.plot(X[labels == 1,0], X[labels == 1, 1], 'k.')\n",
    "plt.show()"
   ]
  },
  {
   "cell_type": "markdown",
   "metadata": {},
   "source": [
    "## Useful Tricks for Linear Algebra\n",
    "\n",
    "Numpy and SciPy have lots of great features for linear algebra. Here are a few."
   ]
  },
  {
   "cell_type": "code",
   "execution_count": 24,
   "metadata": {},
   "outputs": [
    {
     "name": "stdout",
     "output_type": "stream",
     "text": [
      "a = [3.14159265 2.         5.        ]\n",
      "b = [2.71828183 0.         3.        ]\n",
      "I = [[1. 0. 0.]\n",
      " [0. 1. 0.]\n",
      " [0. 0. 1.]]\n",
      "J = [[1. 1. 1.]\n",
      " [1. 1. 1.]\n",
      " [1. 1. 1.]]\n"
     ]
    }
   ],
   "source": [
    "a = np.array([np.pi, 2, 5])\n",
    "b = np.array([np.e, 0, 3])\n",
    "I = np.identity(3)\n",
    "J = np.ones_like(I)\n",
    "\n",
    "print(\"a =\", a)\n",
    "print(\"b =\", b)\n",
    "print(\"I =\", I)\n",
    "print(\"J =\", J)"
   ]
  },
  {
   "cell_type": "code",
   "execution_count": 25,
   "metadata": {},
   "outputs": [
    {
     "data": {
      "text/plain": [
       "23.539734222673566"
      ]
     },
     "execution_count": 25,
     "metadata": {},
     "output_type": "execute_result"
    }
   ],
   "source": [
    "# Dot product:\n",
    "np.dot(a,b)"
   ]
  },
  {
   "cell_type": "code",
   "execution_count": 26,
   "metadata": {},
   "outputs": [
    {
     "data": {
      "text/plain": [
       "23.539734222673566"
      ]
     },
     "execution_count": 26,
     "metadata": {},
     "output_type": "execute_result"
    }
   ],
   "source": [
    "# Or, in python 3:\n",
    "a @ b"
   ]
  },
  {
   "cell_type": "code",
   "execution_count": 27,
   "metadata": {},
   "outputs": [
    {
     "data": {
      "text/plain": [
       "array([10.14159265, 10.14159265, 10.14159265])"
      ]
     },
     "execution_count": 27,
     "metadata": {},
     "output_type": "execute_result"
    }
   ],
   "source": [
    "# Matrix multiplication:\n",
    "J @ a"
   ]
  },
  {
   "cell_type": "code",
   "execution_count": 29,
   "metadata": {},
   "outputs": [
    {
     "name": "stdout",
     "output_type": "stream",
     "text": [
      "[[ 8.53973422  0.          9.42477796]\n",
      " [ 5.43656366  0.          6.        ]\n",
      " [13.59140914  0.         15.        ]]\n"
     ]
    }
   ],
   "source": [
    "# outer product:\n",
    "M = np.outer(a,b)\n",
    "print(M)"
   ]
  },
  {
   "cell_type": "code",
   "execution_count": 30,
   "metadata": {},
   "outputs": [
    {
     "data": {
      "text/plain": [
       "array([[ 8.53973422,  5.43656366, 13.59140914],\n",
       "       [ 0.        ,  0.        ,  0.        ],\n",
       "       [ 9.42477796,  6.        , 15.        ]])"
      ]
     },
     "execution_count": 30,
     "metadata": {},
     "output_type": "execute_result"
    }
   ],
   "source": [
    "# transpose:\n",
    "M.T"
   ]
  },
  {
   "cell_type": "code",
   "execution_count": 31,
   "metadata": {},
   "outputs": [
    {
     "name": "stdout",
     "output_type": "stream",
     "text": [
      "error: M not inversible\n"
     ]
    },
    {
     "data": {
      "text/plain": [
       "array([[0.01340542, 0.00853415, 0.02133538],\n",
       "       [0.        , 0.        , 0.        ],\n",
       "       [0.01479473, 0.00941862, 0.02354655]])"
      ]
     },
     "execution_count": 31,
     "metadata": {},
     "output_type": "execute_result"
    }
   ],
   "source": [
    "# inverse:\n",
    "try:\n",
    "    out = np.linalg.inv(M) # raises an error if M not inversible\n",
    "except:\n",
    "    print(\"error: M not inversible\")\n",
    "    out = np.linalg.pinv(M)\n",
    "out"
   ]
  },
  {
   "cell_type": "code",
   "execution_count": 32,
   "metadata": {},
   "outputs": [
    {
     "name": "stdout",
     "output_type": "stream",
     "text": [
      "Sorted eigenvalues: [0.00000000e+00 1.77635684e-15 2.35397342e+01]\n",
      "Eigenvector matrix: [[ 0.         -0.66281034 -0.50390053]\n",
      " [ 1.          0.4472136  -0.32079304]\n",
      " [ 0.          0.60056844 -0.8019826 ]]\n"
     ]
    }
   ],
   "source": [
    "# eigenvalue problems:\n",
    "w, v = np.linalg.eig(M)\n",
    "print(\"Sorted eigenvalues:\", w)\n",
    "print(\"Eigenvector matrix:\", v)"
   ]
  },
  {
   "cell_type": "code",
   "execution_count": 33,
   "metadata": {},
   "outputs": [
    {
     "data": {
      "text/plain": [
       "6.234549254043099"
      ]
     },
     "execution_count": 33,
     "metadata": {},
     "output_type": "execute_result"
    }
   ],
   "source": [
    "# vector norm\n",
    "np.linalg.norm(a)"
   ]
  },
  {
   "cell_type": "code",
   "execution_count": 34,
   "metadata": {},
   "outputs": [
    {
     "data": {
      "text/plain": [
       "25.239574621468865"
      ]
     },
     "execution_count": 34,
     "metadata": {},
     "output_type": "execute_result"
    }
   ],
   "source": [
    "# frobenius norm\n",
    "np.linalg.norm(M)"
   ]
  },
  {
   "cell_type": "code",
   "execution_count": 35,
   "metadata": {},
   "outputs": [
    {
     "data": {
      "text/plain": [
       "array([12.71823495,  8.09667984, 20.24169959])"
      ]
     },
     "execution_count": 35,
     "metadata": {},
     "output_type": "execute_result"
    }
   ],
   "source": [
    "# row-wise norm\n",
    "np.linalg.norm(M, axis=1)"
   ]
  },
  {
   "cell_type": "code",
   "execution_count": 36,
   "metadata": {},
   "outputs": [
    {
     "data": {
      "text/plain": [
       "array([[18.07946845,  1.        , 19.84955592],\n",
       "       [11.87312731,  1.        , 13.        ],\n",
       "       [28.18281828,  1.        , 31.        ]])"
      ]
     },
     "execution_count": 36,
     "metadata": {},
     "output_type": "execute_result"
    }
   ],
   "source": [
    "# Simple mathematical expressions are applied to each element\n",
    "2*M + 1"
   ]
  },
  {
   "cell_type": "code",
   "execution_count": 37,
   "metadata": {},
   "outputs": [
    {
     "data": {
      "text/plain": [
       "array([[ 72.92706059,   0.        ,  88.82643961],\n",
       "       [ 29.5562244 ,   0.        ,  36.        ],\n",
       "       [184.72640247,   0.        , 225.        ]])"
      ]
     },
     "execution_count": 37,
     "metadata": {},
     "output_type": "execute_result"
    }
   ],
   "source": [
    "# Element-wise squaring\n",
    "M**2"
   ]
  },
  {
   "cell_type": "code",
   "execution_count": 38,
   "metadata": {},
   "outputs": [
    {
     "name": "stdout",
     "output_type": "stream",
     "text": [
      "[[3.14159265]\n",
      " [2.        ]\n",
      " [5.        ]]\n",
      "(3, 1)\n"
     ]
    }
   ],
   "source": [
    "# reshaping arrays is pretty important:\n",
    "# It can be useful for outer products or tensor products for example.\n",
    "a_reshaped = a.reshape(-1,1)\n",
    "print(a_reshaped)\n",
    "print(a_reshaped.shape)"
   ]
  },
  {
   "cell_type": "code",
   "execution_count": 108,
   "metadata": {},
   "outputs": [
    {
     "data": {
      "text/plain": [
       "array([ 8.53973422,  0.        ,  9.42477796,  5.43656366,  0.        ,\n",
       "        6.        , 13.59140914,  0.        , 15.        ])"
      ]
     },
     "execution_count": 108,
     "metadata": {},
     "output_type": "execute_result"
    }
   ],
   "source": [
    "M.reshape(-1)"
   ]
  },
  {
   "cell_type": "code",
   "execution_count": null,
   "metadata": {},
   "outputs": [],
   "source": []
  }
 ],
 "metadata": {
  "kernelspec": {
   "display_name": "Python 3",
   "language": "python",
   "name": "python3"
  },
  "language_info": {
   "codemirror_mode": {
    "name": "ipython",
    "version": 3
   },
   "file_extension": ".py",
   "mimetype": "text/x-python",
   "name": "python",
   "nbconvert_exporter": "python",
   "pygments_lexer": "ipython3",
   "version": "3.6.7"
  }
 },
 "nbformat": 4,
 "nbformat_minor": 2
}
